{
 "cells": [
  {
   "cell_type": "markdown",
   "metadata": {},
   "source": [
    "## Trazer os dados das tabelas do banco de dados para DataFrames\n",
    "Começo Trazendo os dados das tabelas do banco de dados para DataFrames"
   ]
  },
  {
   "cell_type": "code",
   "execution_count": null,
   "metadata": {},
   "outputs": [],
   "source": [
    "import psycopg2\n",
    "import pandas as pd\n",
    "from dotenv import load_dotenv\n",
    "import os\n",
    "\n",
    "# Carregar variáveis do arquivo .env\n",
    "load_dotenv()\n",
    "\n",
    "# Pegar as credenciais do arquivo .env\n",
    "db_host = os.getenv('DB_HOST')\n",
    "db_database = os.getenv('DB_DATABASE')\n",
    "db_user = os.getenv('DB_USER')\n",
    "db_password = os.getenv('DB_PASSWORD')\n",
    "db_port = os.getenv('DB_PORT')\n",
    "\n",
    "# Conectar ao banco de dados PostgreSQL usando as variáveis do .env\n",
    "conn = psycopg2.connect(\n",
    "    host=db_host,\n",
    "    database=db_database,\n",
    "    user=db_user,\n",
    "    password=db_password,\n",
    "    port=db_port\n",
    ")\n",
    "\n",
    "# Função para trazer os dados de uma tabela e convertê-los em DataFrame\n",
    "def tabela_para_dataframe(tabela):\n",
    "    query = f\"SELECT * FROM {tabela}\"\n",
    "    return pd.read_sql(query, conn)\n",
    "\n",
    "# Trazer os dados das tabelas atendimento, unidadeSaude, paciente e profissionalSaude\n",
    "df_atendimentos = tabela_para_dataframe('atendimento')\n",
    "df_unidade = tabela_para_dataframe('unidadeSaude')\n",
    "df_paciente = tabela_para_dataframe('paciente')\n",
    "df_profissional = tabela_para_dataframe('profissionalSaude')\n"
   ]
  },
  {
   "cell_type": "code",
   "execution_count": null,
   "metadata": {},
   "outputs": [],
   "source": [
    "df_atendimentos"
   ]
  },
  {
   "cell_type": "code",
   "execution_count": null,
   "metadata": {},
   "outputs": [],
   "source": [
    "df_paciente"
   ]
  },
  {
   "cell_type": "code",
   "execution_count": null,
   "metadata": {},
   "outputs": [],
   "source": [
    "\n",
    "# Exibir os primeiros registros do DataFrame de atendimentos para validação\n",
    "df_atendimentos.head(5)\n"
   ]
  },
  {
   "cell_type": "code",
   "execution_count": null,
   "metadata": {},
   "outputs": [],
   "source": [
    "# Exibir informações dos DataFrames\n",
    "print(\"Atendimentos:\")\n",
    "df_atendimentos.describe()\n"
   ]
  },
  {
   "cell_type": "code",
   "execution_count": null,
   "metadata": {},
   "outputs": [],
   "source": [
    "\n",
    "print(\"\\nUnidades de Saúde:\")\n",
    "df_unidade.info()\n"
   ]
  },
  {
   "cell_type": "code",
   "execution_count": null,
   "metadata": {},
   "outputs": [],
   "source": [
    "\n",
    "print(\"\\nPacientes:\")\n",
    "df_paciente.info()\n",
    "\n",
    "print(\"\\nProfissionais de Saúde:\")\n",
    "df_profissional.info()\n"
   ]
  },
  {
   "cell_type": "markdown",
   "metadata": {},
   "source": [
    "### Preparando os dados para o agrupamento\n",
    "Crie um data frame para cada agrupamento que desejo fazer as previsoes"
   ]
  },
  {
   "cell_type": "code",
   "execution_count": null,
   "metadata": {},
   "outputs": [],
   "source": [
    "# Converter a coluna data_hora_atendimento para datetime, se necessário\n",
    "df_atendimentos['data_hora_atendimento'] = pd.to_datetime(df_atendimentos['data_hora_atendimento'])\n",
    "\n",
    "# Agrupamento Diário\n",
    "df_diario = df_atendimentos.groupby(df_atendimentos['data_hora_atendimento'].dt.date).size().reset_index(name='num_atendimentos_diarios')\n",
    "\n",
    "# Agrupamento Semanal\n",
    "df_semanal = df_atendimentos.groupby(df_atendimentos['data_hora_atendimento'].dt.to_period('W')).size().reset_index(name='num_atendimentos_semanal')\n",
    "\n",
    "# Agrupamento Mensal\n",
    "df_mensal = df_atendimentos.groupby(df_atendimentos['data_hora_atendimento'].dt.to_period('M')).size().reset_index(name='num_atendimentos_mensal')\n",
    "\n",
    "# Exibir os primeiros resultados para validação\n",
    "print(\"Atendimentos Diários:\")\n",
    "print(df_diario.head())\n",
    "\n",
    "print(\"\\nAtendimentos Semanais:\")\n",
    "print(df_semanal.head())\n",
    "\n",
    "print(\"\\nAtendimentos Mensais:\")\n",
    "print(df_mensal.head())\n"
   ]
  },
  {
   "cell_type": "code",
   "execution_count": null,
   "metadata": {},
   "outputs": [],
   "source": [
    "# Exibir as primeiras linhas do agrupamento diário\n",
    "df_diario.head()\n",
    "\n",
    "# Visualizar os atendimentos diários\n",
    "df_diario.plot(x='data_hora_atendimento', y='num_atendimentos_diarios', title='Atendimentos Diários', ylabel='Número de Atendimentos')\n"
   ]
  },
  {
   "cell_type": "code",
   "execution_count": null,
   "metadata": {
    "vscode": {
     "languageId": "ruby"
    }
   },
   "outputs": [],
   "source": [
    "import matplotlib.pyplot as plt\n",
    "\n",
    "# Gráfico de tendência dos atendimentos diários\n",
    "plt.figure(figsize=(12, 6))\n",
    "plt.plot(df_diario['data_hora_atendimento'], df_diario['num_atendimentos_diarios'], marker='o', linestyle='-', label='Diário')\n",
    "plt.title('Tendência dos Atendimentos Diários')\n",
    "plt.xlabel('Data')\n",
    "plt.ylabel('Número de Atendimentos')\n",
    "plt.legend()\n",
    "plt.grid(True)\n",
    "plt.show()\n"
   ]
  },
  {
   "cell_type": "code",
   "execution_count": null,
   "metadata": {
    "vscode": {
     "languageId": "ruby"
    }
   },
   "outputs": [],
   "source": [
    "\n",
    "# Gráfico de tendência dos atendimentos semanais\n",
    "plt.figure(figsize=(36, 14))\n",
    "plt.plot(df_semanal['data_hora_atendimento'].astype(str), df_semanal['num_atendimentos_semanal'], marker='o', linestyle='-', label='Semanal')\n",
    "plt.title('Tendência dos Atendimentos Semanais')\n",
    "plt.xlabel('Semana')\n",
    "plt.ylabel('Número de Atendimentos')\n",
    "plt.legend()\n",
    "plt.grid(True)\n",
    "plt.show()\n"
   ]
  },
  {
   "cell_type": "code",
   "execution_count": null,
   "metadata": {
    "vscode": {
     "languageId": "ruby"
    }
   },
   "outputs": [],
   "source": [
    "\n",
    "# Gráfico de tendência dos atendimentos mensais\n",
    "plt.figure(figsize=(12, 6))\n",
    "plt.plot(df_mensal['data_hora_atendimento'].astype(str), df_mensal['num_atendimentos_mensal'], marker='o', linestyle='-', label='Mensal')\n",
    "plt.title('Tendência dos Atendimentos Mensais')\n",
    "plt.xlabel('Mês')\n",
    "plt.ylabel('Número de Atendimentos')\n",
    "plt.legend()\n",
    "plt.grid(True)\n",
    "plt.show()"
   ]
  },
  {
   "cell_type": "markdown",
   "metadata": {},
   "source": [
    "## DESAFIO: \n",
    "\n",
    "#### depois do dia 02/10/2024 vou modificar a base para diminuir a variacao\n",
    "#### Tentar prever a demanda por bairro do paciente."
   ]
  },
  {
   "cell_type": "markdown",
   "metadata": {},
   "source": [
    "1. Juntar as tabelas: Precisamos unir os dados de atendimentos com os dados da tabela de pacientes, pois o bairro está armazenado nela.\n",
    "2. Agrupar os atendimentos por bairro: Uma vez que os dados estejam unidos, podemos agrupar os atendimentos por bairro.\n",
    "3. Preparar os dados para prever a demanda por bairro."
   ]
  }
 ],
 "metadata": {
  "kernelspec": {
   "display_name": "devPy",
   "language": "python",
   "name": "python3"
  },
  "language_info": {
   "codemirror_mode": {
    "name": "ipython",
    "version": 3
   },
   "file_extension": ".py",
   "mimetype": "text/x-python",
   "name": "python",
   "nbconvert_exporter": "python",
   "pygments_lexer": "ipython3",
   "version": "3.11.8"
  }
 },
 "nbformat": 4,
 "nbformat_minor": 2
}
