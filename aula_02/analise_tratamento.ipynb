{
 "cells": [
  {
   "cell_type": "markdown",
   "metadata": {},
   "source": [
    "## Trazer os dados das tabelas do banco de dados para DataFrames\n",
    "Começo Trazendo os dados das tabelas do banco de dados para DataFrames"
   ]
  },
  {
   "cell_type": "code",
   "execution_count": null,
   "metadata": {},
   "outputs": [],
   "source": [
    "import psycopg2\n",
    "import pandas as pd\n",
    "from dotenv import load_dotenv\n",
    "import os\n",
    "\n",
    "# Carregar variáveis do arquivo .env\n",
    "load_dotenv()\n",
    "\n",
    "# Pegar as credenciais do arquivo .env\n",
    "db_host = os.getenv('DB_HOST')\n",
    "db_database = os.getenv('DB_DATABASE')\n",
    "db_user = os.getenv('DB_USER')\n",
    "db_password = os.getenv('DB_PASSWORD')\n",
    "db_port = os.getenv('DB_PORT')\n",
    "\n",
    "# Conectar ao banco de dados PostgreSQL usando as variáveis do .env\n",
    "conn = psycopg2.connect(\n",
    "    host=db_host,\n",
    "    database=db_database,\n",
    "    user=db_user,\n",
    "    password=db_password,\n",
    "    port=db_port\n",
    ")\n",
    "\n",
    "# Função para trazer os dados de uma tabela e convertê-los em DataFrame\n",
    "def tabela_para_dataframe(tabela):\n",
    "    query = f\"SELECT * FROM {tabela}\"\n",
    "    return pd.read_sql(query, conn)\n",
    "\n",
    "# Trazer os dados das tabelas atendimento, unidadeSaude, paciente e profissionalSaude\n",
    "df_atendimentos = tabela_para_dataframe('atendimento')\n",
    "df_unidade = tabela_para_dataframe('unidadeSaude')\n",
    "df_paciente = tabela_para_dataframe('paciente')\n",
    "df_profissional = tabela_para_dataframe('profissionalSaude')\n"
   ]
  },
  {
   "cell_type": "code",
   "execution_count": null,
   "metadata": {},
   "outputs": [],
   "source": [
    "df_atendimentos"
   ]
  },
  {
   "cell_type": "code",
   "execution_count": null,
   "metadata": {},
   "outputs": [],
   "source": [
    "df_paciente"
   ]
  },
  {
   "cell_type": "code",
   "execution_count": null,
   "metadata": {},
   "outputs": [],
   "source": [
    "\n",
    "# Exibir os primeiros registros do DataFrame de atendimentos para validação\n",
    "df_atendimentos.head(5)\n"
   ]
  },
  {
   "cell_type": "code",
   "execution_count": null,
   "metadata": {},
   "outputs": [],
   "source": [
    "# Exibir informações dos DataFrames\n",
    "print(\"Atendimentos:\")\n",
    "df_atendimentos.describe()\n"
   ]
  },
  {
   "cell_type": "code",
   "execution_count": null,
   "metadata": {},
   "outputs": [],
   "source": [
    "\n",
    "print(\"\\nUnidades de Saúde:\")\n",
    "df_unidade.info()\n"
   ]
  },
  {
   "cell_type": "code",
   "execution_count": null,
   "metadata": {},
   "outputs": [],
   "source": [
    "\n",
    "print(\"\\nPacientes:\")\n",
    "df_paciente.info()\n",
    "\n",
    "print(\"\\nProfissionais de Saúde:\")\n",
    "df_profissional.info()\n"
   ]
  },
  {
   "cell_type": "markdown",
   "metadata": {},
   "source": [
    "### Preparando os dados para o agrupamento\n",
    "Crie um data frame para cada agrupamento que desejo fazer as previsoes"
   ]
  },
  {
   "cell_type": "code",
   "execution_count": 25,
   "metadata": {},
   "outputs": [
    {
     "name": "stdout",
     "output_type": "stream",
     "text": [
      "Atendimentos Diários:\n",
      "  data_hora_atendimento  num_atendimentos_diarios\n",
      "0            2018-01-01                        28\n",
      "1            2018-01-02                        29\n",
      "2            2018-01-03                        29\n",
      "3            2018-01-04                        30\n",
      "4            2018-01-05                        29\n",
      "\n",
      "Atendimentos Semanais:\n",
      "   data_hora_atendimento  num_atendimentos_semanal\n",
      "0  2018-01-01/2018-01-07                       205\n",
      "1  2018-01-08/2018-01-14                       206\n",
      "2  2018-01-15/2018-01-21                       203\n",
      "3  2018-01-22/2018-01-28                       205\n",
      "4  2018-01-29/2018-02-04                       221\n",
      "\n",
      "Atendimentos Mensais:\n",
      "  data_hora_atendimento  num_atendimentos_mensal\n",
      "0               2018-01                      906\n",
      "1               2018-02                      941\n",
      "2               2018-03                     1132\n",
      "3               2018-04                     1164\n",
      "4               2018-05                     1224\n"
     ]
    }
   ],
   "source": [
    "# Converter a coluna data_hora_atendimento para datetime, se necessário\n",
    "df_atendimentos['data_hora_atendimento'] = pd.to_datetime(df_atendimentos['data_hora_atendimento'])\n",
    "\n",
    "# Agrupamento Diário\n",
    "df_diario = df_atendimentos.groupby(df_atendimentos['data_hora_atendimento'].dt.date).size().reset_index(name='num_atendimentos_diarios')\n",
    "\n",
    "# Agrupamento Semanal\n",
    "df_semanal = df_atendimentos.groupby(df_atendimentos['data_hora_atendimento'].dt.to_period('W')).size().reset_index(name='num_atendimentos_semanal')\n",
    "\n",
    "# Agrupamento Mensal\n",
    "df_mensal = df_atendimentos.groupby(df_atendimentos['data_hora_atendimento'].dt.to_period('M')).size().reset_index(name='num_atendimentos_mensal')\n",
    "\n",
    "# Exibir os primeiros resultados para validação\n",
    "print(\"Atendimentos Diários:\")\n",
    "print(df_diario.head())\n",
    "\n",
    "print(\"\\nAtendimentos Semanais:\")\n",
    "print(df_semanal.head())\n",
    "\n",
    "print(\"\\nAtendimentos Mensais:\")\n",
    "print(df_mensal.head())\n"
   ]
  },
  {
   "cell_type": "code",
   "execution_count": null,
   "metadata": {},
   "outputs": [],
   "source": [
    "# Exibir as primeiras linhas do agrupamento diário\n",
    "df_diario.head()\n",
    "\n",
    "# Visualizar os atendimentos diários\n",
    "df_diario.plot(x='data_hora_atendimento', y='num_atendimentos_diarios', title='Atendimentos Diários', ylabel='Número de Atendimentos')\n"
   ]
  },
  {
   "cell_type": "code",
   "execution_count": null,
   "metadata": {},
   "outputs": [],
   "source": [
    "df_diario.head()"
   ]
  },
  {
   "cell_type": "code",
   "execution_count": 28,
   "metadata": {},
   "outputs": [
    {
     "name": "stdout",
     "output_type": "stream",
     "text": [
      "    data_hora_atendimento  num_atendimentos_diarios   dia_atend  \\\n",
      "0              2018-01-01                        28  2018-01-01   \n",
      "31             2018-02-01                        32  2018-02-01   \n",
      "59             2018-03-01                        38  2018-03-01   \n",
      "90             2018-04-01                        38  2018-04-01   \n",
      "120            2018-05-01                        36  2018-05-01   \n",
      "..                    ...                       ...         ...   \n",
      "149            2018-05-30                        38  2018-05-30   \n",
      "180            2018-06-30                        40  2018-06-30   \n",
      "30             2018-01-31                        29  2018-01-31   \n",
      "89             2018-03-31                        34  2018-03-31   \n",
      "150            2018-05-31                        42  2018-05-31   \n",
      "\n",
      "    dia_atendimento  \n",
      "0        01/01/2018  \n",
      "31       01/02/2018  \n",
      "59       01/03/2018  \n",
      "90       01/04/2018  \n",
      "120      01/05/2018  \n",
      "..              ...  \n",
      "149      30/05/2018  \n",
      "180      30/06/2018  \n",
      "30       31/01/2018  \n",
      "89       31/03/2018  \n",
      "150      31/05/2018  \n",
      "\n",
      "[181 rows x 4 columns]\n"
     ]
    }
   ],
   "source": [
    "df_diario['data_hora_atendimento'] = pd.to_datetime(df_diario['data_hora_atendimento'])\n",
    "\n",
    "# Criar uma nova coluna 'dia_atendimento' contendo apenas a data no formato 'ano/mês/dia'\n",
    "df_diario['dia_atendimento'] = df_diario['data_hora_atendimento'].dt.strftime('%d/%m/%Y')\n",
    "\n",
    "# Ordenar o DataFrame pela nova coluna 'dia_atendimento'\n",
    "df_diario = df_diario.sort_values(by='dia_atendimento')\n",
    "\n",
    "# Exibir o DataFrame atualizado\n",
    "print(df_diario)"
   ]
  },
  {
   "cell_type": "code",
   "execution_count": 26,
   "metadata": {},
   "outputs": [],
   "source": [
    "# Exibir os primeiros registros do DataFrame com data sem as horas e sem barras\n",
    "df_diario['data_hora_atendimento'] = pd.to_datetime(df_diario['data_hora_atendimento'])\n",
    "df_diario['dia_atend'] = df_diario['data_hora_atendimento'].dt.date\n",
    "df_diario = df_diario.sort_values(by='dia_atend')\n"
   ]
  },
  {
   "cell_type": "code",
   "execution_count": 27,
   "metadata": {},
   "outputs": [
    {
     "data": {
      "text/html": [
       "<div>\n",
       "<style scoped>\n",
       "    .dataframe tbody tr th:only-of-type {\n",
       "        vertical-align: middle;\n",
       "    }\n",
       "\n",
       "    .dataframe tbody tr th {\n",
       "        vertical-align: top;\n",
       "    }\n",
       "\n",
       "    .dataframe thead th {\n",
       "        text-align: right;\n",
       "    }\n",
       "</style>\n",
       "<table border=\"1\" class=\"dataframe\">\n",
       "  <thead>\n",
       "    <tr style=\"text-align: right;\">\n",
       "      <th></th>\n",
       "      <th>data_hora_atendimento</th>\n",
       "      <th>num_atendimentos_diarios</th>\n",
       "      <th>dia_atend</th>\n",
       "    </tr>\n",
       "  </thead>\n",
       "  <tbody>\n",
       "    <tr>\n",
       "      <th>0</th>\n",
       "      <td>2018-01-01</td>\n",
       "      <td>28</td>\n",
       "      <td>2018-01-01</td>\n",
       "    </tr>\n",
       "    <tr>\n",
       "      <th>1</th>\n",
       "      <td>2018-01-02</td>\n",
       "      <td>29</td>\n",
       "      <td>2018-01-02</td>\n",
       "    </tr>\n",
       "    <tr>\n",
       "      <th>2</th>\n",
       "      <td>2018-01-03</td>\n",
       "      <td>29</td>\n",
       "      <td>2018-01-03</td>\n",
       "    </tr>\n",
       "    <tr>\n",
       "      <th>3</th>\n",
       "      <td>2018-01-04</td>\n",
       "      <td>30</td>\n",
       "      <td>2018-01-04</td>\n",
       "    </tr>\n",
       "    <tr>\n",
       "      <th>4</th>\n",
       "      <td>2018-01-05</td>\n",
       "      <td>29</td>\n",
       "      <td>2018-01-05</td>\n",
       "    </tr>\n",
       "    <tr>\n",
       "      <th>...</th>\n",
       "      <td>...</td>\n",
       "      <td>...</td>\n",
       "      <td>...</td>\n",
       "    </tr>\n",
       "    <tr>\n",
       "      <th>176</th>\n",
       "      <td>2018-06-26</td>\n",
       "      <td>41</td>\n",
       "      <td>2018-06-26</td>\n",
       "    </tr>\n",
       "    <tr>\n",
       "      <th>177</th>\n",
       "      <td>2018-06-27</td>\n",
       "      <td>41</td>\n",
       "      <td>2018-06-27</td>\n",
       "    </tr>\n",
       "    <tr>\n",
       "      <th>178</th>\n",
       "      <td>2018-06-28</td>\n",
       "      <td>36</td>\n",
       "      <td>2018-06-28</td>\n",
       "    </tr>\n",
       "    <tr>\n",
       "      <th>179</th>\n",
       "      <td>2018-06-29</td>\n",
       "      <td>38</td>\n",
       "      <td>2018-06-29</td>\n",
       "    </tr>\n",
       "    <tr>\n",
       "      <th>180</th>\n",
       "      <td>2018-06-30</td>\n",
       "      <td>40</td>\n",
       "      <td>2018-06-30</td>\n",
       "    </tr>\n",
       "  </tbody>\n",
       "</table>\n",
       "<p>181 rows × 3 columns</p>\n",
       "</div>"
      ],
      "text/plain": [
       "    data_hora_atendimento  num_atendimentos_diarios   dia_atend\n",
       "0              2018-01-01                        28  2018-01-01\n",
       "1              2018-01-02                        29  2018-01-02\n",
       "2              2018-01-03                        29  2018-01-03\n",
       "3              2018-01-04                        30  2018-01-04\n",
       "4              2018-01-05                        29  2018-01-05\n",
       "..                    ...                       ...         ...\n",
       "176            2018-06-26                        41  2018-06-26\n",
       "177            2018-06-27                        41  2018-06-27\n",
       "178            2018-06-28                        36  2018-06-28\n",
       "179            2018-06-29                        38  2018-06-29\n",
       "180            2018-06-30                        40  2018-06-30\n",
       "\n",
       "[181 rows x 3 columns]"
      ]
     },
     "execution_count": 27,
     "metadata": {},
     "output_type": "execute_result"
    }
   ],
   "source": [
    "df_diario"
   ]
  },
  {
   "cell_type": "code",
   "execution_count": null,
   "metadata": {
    "vscode": {
     "languageId": "ruby"
    }
   },
   "outputs": [],
   "source": [
    "import matplotlib.pyplot as plt\n",
    "\n",
    "# Gráfico de tendência dos atendimentos diários\n",
    "plt.figure(figsize=(12, 6))\n",
    "plt.plot(df_diario['data_hora_atendimento'], df_diario['num_atendimentos_diarios'], marker='o', linestyle='-', label='Diário')\n",
    "plt.title('Tendência dos Atendimentos Diários')\n",
    "plt.xlabel('Data')\n",
    "plt.ylabel('Número de Atendimentos')\n",
    "plt.legend()\n",
    "plt.grid(True)\n",
    "plt.show()\n"
   ]
  },
  {
   "cell_type": "code",
   "execution_count": null,
   "metadata": {
    "vscode": {
     "languageId": "ruby"
    }
   },
   "outputs": [],
   "source": [
    "\n",
    "# Gráfico de tendência dos atendimentos semanais\n",
    "plt.figure(figsize=(36, 14))\n",
    "plt.plot(df_semanal['data_hora_atendimento'].astype(str), df_semanal['num_atendimentos_semanal'], marker='o', linestyle='-', label='Semanal')\n",
    "plt.title('Tendência dos Atendimentos Semanais')\n",
    "plt.xlabel('Semana')\n",
    "plt.ylabel('Número de Atendimentos')\n",
    "plt.legend()\n",
    "plt.grid(True)\n",
    "plt.show()\n"
   ]
  },
  {
   "cell_type": "code",
   "execution_count": null,
   "metadata": {
    "vscode": {
     "languageId": "ruby"
    }
   },
   "outputs": [],
   "source": [
    "\n",
    "# Gráfico de tendência dos atendimentos mensais\n",
    "plt.figure(figsize=(12, 6))\n",
    "plt.plot(df_mensal['data_hora_atendimento'].astype(str), df_mensal['num_atendimentos_mensal'], marker='o', linestyle='-', label='Mensal')\n",
    "plt.title('Tendência dos Atendimentos Mensais')\n",
    "plt.xlabel('Mês')\n",
    "plt.ylabel('Número de Atendimentos')\n",
    "plt.legend()\n",
    "plt.grid(True)\n",
    "plt.show()"
   ]
  },
  {
   "cell_type": "markdown",
   "metadata": {},
   "source": [
    "## DESAFIO: \n",
    "\n",
    "#### depois do dia 02/10/2024 vou modificar a base para diminuir a variacao\n",
    "#### Tentar prever a demanda por bairro do paciente."
   ]
  },
  {
   "cell_type": "markdown",
   "metadata": {},
   "source": [
    "1. Juntar as tabelas: Precisamos unir os dados de atendimentos com os dados da tabela de pacientes, pois o bairro está armazenado nela.\n",
    "2. Agrupar os atendimentos por bairro: Uma vez que os dados estejam unidos, podemos agrupar os atendimentos por bairro.\n",
    "3. Preparar os dados para prever a demanda por bairro.\n",
    "4. Lembrem de ordenar os dados de acordo com a coluna de tempo para realizar precisoes temporais."
   ]
  }
 ],
 "metadata": {
  "kernelspec": {
   "display_name": "devPy",
   "language": "python",
   "name": "python3"
  },
  "language_info": {
   "codemirror_mode": {
    "name": "ipython",
    "version": 3
   },
   "file_extension": ".py",
   "mimetype": "text/x-python",
   "name": "python",
   "nbconvert_exporter": "python",
   "pygments_lexer": "ipython3",
   "version": "3.11.8"
  }
 },
 "nbformat": 4,
 "nbformat_minor": 2
}
