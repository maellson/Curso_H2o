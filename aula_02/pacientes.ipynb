{
 "cells": [
  {
   "cell_type": "code",
   "execution_count": null,
   "metadata": {},
   "outputs": [],
   "source": [
    "import uuid\n",
    "import random\n",
    "from faker import Faker\n",
    "import pandas as pd\n",
    "\n",
    "# Geração de dados fictícios com Faker\n",
    "fake = Faker('pt_BR')\n",
    "\n",
    "# Função para gerar os pacientes e retornar um DataFrame\n",
    "def gerar_pacientes(num_pacientes):\n",
    "    pacientes = []\n",
    "    for _ in range(num_pacientes):\n",
    "        id_paciente = str(uuid.uuid4())\n",
    "        nome = fake.name()\n",
    "        endereco = fake.street_address()\n",
    "        bairro = fake.city()\n",
    "        data_nascimento = fake.date_of_birth(\n",
    "            minimum_age=18, maximum_age=90).strftime('%Y-%m-%d')\n",
    "        sexo = random.choice(['M', 'F'])\n",
    "        pacientes.append([id_paciente, nome, endereco, bairro, data_nascimento, sexo])\n",
    "    \n",
    "    # Criar um DataFrame com os pacientes gerados\n",
    "    colunas = ['id', 'nome', 'endereco', 'bairro', 'dataNascimento', 'sexo']\n",
    "    df_pacientes = pd.DataFrame(pacientes, columns=colunas)\n",
    "    \n",
    "    return df_pacientes\n",
    "\n",
    "# Gerar 150 pacientes e retornar como DataFrame\n",
    "df_pacientes = gerar_pacientes(150)\n",
    "\n",
    "# Exibir os primeiros 5 pacientes para validação\n",
    "df_pacientes.head()\n"
   ]
  },
  {
   "cell_type": "markdown",
   "metadata": {},
   "source": [
    "## Popular tabela de pacientes da base de dados. \n",
    "\n",
    "obs.: Alunos com esta senha não conseguem inserir dados, Apenas consultar.\n"
   ]
  },
  {
   "cell_type": "code",
   "execution_count": 4,
   "metadata": {},
   "outputs": [],
   "source": [
    "import psycopg2\n",
    "from psycopg2 import extras\n",
    "\n",
    "# Função para inserir os pacientes no banco de dados\n",
    "def inserir_pacientes_db(df_pacientes):\n",
    "    # Conecte-se ao banco de dados PostgreSQL\n",
    "    conn = psycopg2.connect( #forma nao segura de conexao passando os dados diretamente\n",
    "        host=\"bravonix-h2o.cyxg40uuwn8v.sa-east-1.rds.amazonaws.com\",\n",
    "        database=\"bravonix\",\n",
    "        user=\"bravonixx\",\n",
    "        password=\"Bravonixx\"\n",
    "    )\n",
    "    cursor = conn.cursor()\n",
    "\n",
    "    # Preparar os dados para inserção\n",
    "    pacientes = df_pacientes.values.tolist()\n",
    "    \n",
    "    insert_query = \"\"\"\n",
    "    INSERT INTO paciente (id, nome, endereco, bairro, dataNascimento, sexo) \n",
    "    VALUES (%s, %s, %s, %s, %s, %s)\n",
    "    \"\"\"\n",
    "    \n",
    "    # Usar execute_batch para inserir os dados de forma eficiente\n",
    "    extras.execute_batch(cursor, insert_query, pacientes)\n",
    "    \n",
    "    # Confirmar a inserção e fechar conexão\n",
    "    conn.commit()\n",
    "    cursor.close()\n",
    "    conn.close()\n",
    "\n",
    "# Após validar os dados no DataFrame, insira no banco\n",
    "inserir_pacientes_db(df_pacientes)\n"
   ]
  }
 ],
 "metadata": {
  "kernelspec": {
   "display_name": "devPy",
   "language": "python",
   "name": "python3"
  },
  "language_info": {
   "codemirror_mode": {
    "name": "ipython",
    "version": 3
   },
   "file_extension": ".py",
   "mimetype": "text/x-python",
   "name": "python",
   "nbconvert_exporter": "python",
   "pygments_lexer": "ipython3",
   "version": "3.11.8"
  }
 },
 "nbformat": 4,
 "nbformat_minor": 2
}
